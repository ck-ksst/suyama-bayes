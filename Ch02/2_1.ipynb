{
 "cells": [
  {
   "cell_type": "code",
   "execution_count": 1,
   "metadata": {},
   "outputs": [],
   "source": [
    "import numpy as np\n",
    "import matplotlib.pyplot as plt\n",
    "%matplotlib inline"
   ]
  },
  {
   "cell_type": "code",
   "execution_count": 2,
   "metadata": {},
   "outputs": [],
   "source": [
    "#2.1.3の離散確率分布\n",
    "def p(x):\n",
    "    if x == 1:\n",
    "        return 1/3\n",
    "    elif x == 0:\n",
    "        return 2/3\n",
    "    else:\n",
    "        print('xは0, 1以外の値を取らない')\n"
   ]
  },
  {
   "cell_type": "code",
   "execution_count": 7,
   "metadata": {},
   "outputs": [],
   "source": [
    "#エントロピー\n",
    "def H(x, p):\n",
    "    entropy = 0\n",
    "    for i in range(len(x)):\n",
    "        entropy -= p(x[i]) * np.log(p(x[i]))\n",
    "    return entropy"
   ]
  },
  {
   "cell_type": "code",
   "execution_count": 6,
   "metadata": {},
   "outputs": [
    {
     "data": {
      "text/plain": [
       "0.6365141682948128"
      ]
     },
     "execution_count": 6,
     "metadata": {},
     "output_type": "execute_result"
    }
   ],
   "source": [
    "x = [0, 1]\n",
    "H(x, p)"
   ]
  },
  {
   "cell_type": "code",
   "execution_count": null,
   "metadata": {},
   "outputs": [],
   "source": [
    "def KL(x, p, q):\n",
    "    "
   ]
  }
 ],
 "metadata": {
  "interpreter": {
   "hash": "d1b6f00e05bc317e276bfbb9716329535cf6507d5d26d1975ec2db72de67d0df"
  },
  "kernelspec": {
   "display_name": "Python 3.10.2 64-bit ('myPy': conda)",
   "language": "python",
   "name": "python3"
  },
  "language_info": {
   "codemirror_mode": {
    "name": "ipython",
    "version": 3
   },
   "file_extension": ".py",
   "mimetype": "text/x-python",
   "name": "python",
   "nbconvert_exporter": "python",
   "pygments_lexer": "ipython3",
   "version": "3.10.2"
  },
  "orig_nbformat": 4
 },
 "nbformat": 4,
 "nbformat_minor": 2
}
